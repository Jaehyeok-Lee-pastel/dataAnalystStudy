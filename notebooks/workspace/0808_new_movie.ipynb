{
 "cells": [
  {
   "cell_type": "markdown",
   "id": "3adf8a61-e6f2-4938-b611-138a9a9ec667",
   "metadata": {},
   "source": [
    "# \"영화는 왜 성공할까? 캐글 영화 데이터로 보는 평점과 흥행의 관계\""
   ]
  },
  {
   "cell_type": "markdown",
   "id": "efd839ec-464c-4f1c-a1ce-2329a72d66ae",
   "metadata": {},
   "source": [
    "## 1. 프로젝트 개요"
   ]
  },
  {
   "cell_type": "code",
   "execution_count": 6,
   "id": "892d5a5f-5cb7-41a9-be90-fced81898c4e",
   "metadata": {},
   "outputs": [],
   "source": [
    "'''\n",
    "캐글 영화 데이터를 활용한 분석 프로젝트\n",
    "목표 : 영화의 평점과 수익간의 관계를 탐색하고 간단한 예측 모델 실험\n",
    "흥행이 된 영화에는 어떤 특성이 있을까 라는 생각에서 비롯된 프로젝트\n",
    "'''"
   ]
  },
  {
   "cell_type": "markdown",
   "id": "f91e3e64-5568-4db8-be62-d48dbbe90f04",
   "metadata": {},
   "source": [
    "## 2. 데이터셋 소개"
   ]
  },
  {
   "cell_type": "code",
   "execution_count": 7,
   "id": "7a6b1455-737f-4ba2-b369-ba911002d053",
   "metadata": {},
   "outputs": [
    {
     "data": {
      "text/plain": [
       "'\\n주요 컬럼 :\\nvote_average : 평점\\nrevenue, budget : 수익, 제작비\\ngenres : 장르\\n\\n약 100만개의 영화 데이터\\n'"
      ]
     },
     "execution_count": 7,
     "metadata": {},
     "output_type": "execute_result"
    }
   ],
   "source": [
    "'''\n",
    "주요 컬럼 :\n",
    "vote_average : 평점\n",
    "revenue, budget : 수익, 제작비\n",
    "genres : 장르\n",
    "\n",
    "약 100만개의 영화 데이터\n",
    "'''"
   ]
  },
  {
   "cell_type": "code",
   "execution_count": 8,
   "id": "f2011d86-fb7b-4df5-96be-f0f597ca8ba8",
   "metadata": {},
   "outputs": [],
   "source": [
    "import numpy as np\n",
    "import pandas as pd\n",
    "import matplotlib.pyplot as plt\n",
    "\n",
    "# 영화 데이터셋 불러오기\n",
    "df = pd.read_csv(\"TMDB_movie_dataset_v11.csv\")"
   ]
  },
  {
   "cell_type": "code",
   "execution_count": 16,
   "id": "05298507-3051-4a1f-901b-7095e0a5adec",
   "metadata": {},
   "outputs": [
    {
     "name": "stdout",
     "output_type": "stream",
     "text": [
      "\n",
      "필요 컬럼이 모두 존재\n"
     ]
    }
   ],
   "source": [
    "# 판다스 출력 옵션: 컬럼 많이 보여주기\n",
    "pd.set_option('display.max_columns', 100)\n",
    "pd.set_option('display.width', 160)\n",
    "\n",
    "# 사용할 핵심 컬럼이 실제로 데이터셋에 존재하는지 확인\n",
    "# 이번단계에서 필요한 컬럼 목록\n",
    "required_cols = [\"vote_average\", \"revenue\", \"budget\", \"genres\"]\n",
    "\n",
    "# 원본 df에 없는 컬럼이 있는지 체크\n",
    "missing = [c for c in required_cols if c not in df.columns]\n",
    "\n",
    "# 만약 빠진 컬럼이 있다면 지금 바로 알려주고 진행을 멈춤\n",
    "if missing:\n",
    "    print(\"\\n[경고] 다음 컬럼이 존재하지 않음:\", missing)\n",
    "    print(\"→ CSV의 실제 컬럼명을 알려주시면 매핑해서 처리\")\n",
    "else:\n",
    "    print(\"\\n필요 컬럼이 모두 존재\")\n"
   ]
  },
  {
   "cell_type": "code",
   "execution_count": null,
   "id": "d10accb2-5b07-4412-94c4-12cd0d954cc8",
   "metadata": {},
   "outputs": [],
   "source": [
    "''''''"
   ]
  },
  {
   "cell_type": "markdown",
   "id": "c1e12aa7-fb54-47c1-b5f5-d07ca92256ae",
   "metadata": {},
   "source": [
    "## 3. 분석 방향 설정"
   ]
  },
  {
   "cell_type": "code",
   "execution_count": null,
   "id": "ee35e9b5-927e-4ae3-96aa-e34edbaf6966",
   "metadata": {},
   "outputs": [],
   "source": [
    "'''\n",
    "'영화의 성공'을 어떻게 정의할까?\n",
    "이 프로젝트 에서는 수익이 제작비보다 많으면 '성공'이라 정의\n",
    " -> ROI(Retrun On Investment) > 1\n",
    "\n",
    "단 영화의 성공에는 제작비, 배우, 홍보 요소등 많은 요소가 있지만 \n",
    "이 프로젝트에서는 평점, 수익, 제작비의 데이터만 사용하여 분석함\n",
    "'''"
   ]
  }
 ],
 "metadata": {
  "kernelspec": {
   "display_name": "Python 3 (ipykernel)",
   "language": "python",
   "name": "python3"
  },
  "language_info": {
   "codemirror_mode": {
    "name": "ipython",
    "version": 3
   },
   "file_extension": ".py",
   "mimetype": "text/x-python",
   "name": "python",
   "nbconvert_exporter": "python",
   "pygments_lexer": "ipython3",
   "version": "3.13.5"
  }
 },
 "nbformat": 4,
 "nbformat_minor": 5
}
